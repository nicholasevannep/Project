{
 "cells": [
  {
   "cell_type": "code",
   "execution_count": 1,
   "id": "rubber-league",
   "metadata": {},
   "outputs": [],
   "source": [
    "import pickle\n",
    "import pandas as pd\n",
    "import numpy as np\n",
    "import matplotlib.pyplot as plt\n",
    "from sklearn.preprocessing import MinMaxScaler\n",
    "from skmultilearn.problem_transform import BinaryRelevance\n",
    "from xgboost import XGBClassifier"
   ]
  },
  {
   "cell_type": "code",
   "execution_count": 2,
   "id": "organizational-klein",
   "metadata": {},
   "outputs": [],
   "source": [
    "def age_bin(data):\n",
    "    age_group = ['balita', 'kanak-kanak', 'remaja awal', 'remaja akhir', 'dewasa awal', 'dewasa akhir', 'lansia awal', 'lansia akhir', 'manula']\n",
    "    age_range = [\n",
    "        (data['age'] >= 0) & (data['age'] <= 5),\n",
    "        (data['age'] >= 6) & (data['age'] <= 11),\n",
    "        (data['age'] >= 12) & (data['age'] <= 16),\n",
    "        (data['age'] >= 17) & (data['age'] <= 25),\n",
    "        (data['age'] >= 26) & (data['age'] <= 35),\n",
    "        (data['age'] >= 36) & (data['age'] <= 45),\n",
    "        (data['age'] >= 46) & (data['age'] <= 55),\n",
    "        (data['age'] >= 56) & (data['age'] <= 65),\n",
    "        (data['age'] > 65)]\n",
    "    data['age_bin'] = np.select(age_range, age_group)\n",
    "    data = data.drop('age', axis=1)\n",
    "    return data"
   ]
  },
  {
   "cell_type": "code",
   "execution_count": 3,
   "id": "internal-vessel",
   "metadata": {},
   "outputs": [],
   "source": [
    "def encoding(x):\n",
    "    age_group = ['balita', 'kanak-kanak', 'remaja awal', 'remaja akhir', 'dewasa awal', 'dewasa akhir', 'lansia awal', 'lansia akhir', 'manula']\n",
    "    gender_encode = pd.get_dummies(x.gender.apply(pd.Series).stack()).sum(level=0)\n",
    "    x = x.drop(columns=['gender'])\n",
    "    x = pd.concat([x, gender_encode], axis=1)\n",
    "    status_encode = pd.get_dummies(x.status.apply(pd.Series).stack()).sum(level=0)\n",
    "    x = x.drop(columns=['status'])\n",
    "    x = pd.concat([x, status_encode], axis=1)\n",
    "    occ_encode = pd.get_dummies(x.occupation.apply(pd.Series).stack()).sum(level=0)\n",
    "    x = x.drop(columns=['occupation'])\n",
    "    x = pd.concat([x, occ_encode], axis=1)\n",
    "    age_encode = pd.get_dummies(x.age_bin.apply(pd.Series).stack()).sum(level=0)\n",
    "    x = x.drop(columns=['age_bin'])\n",
    "    diff = list(set(age_group) - set(age_encode.columns))\n",
    "    age_encode[diff] = 0\n",
    "    x = pd.concat([x, age_encode], axis=1)\n",
    "    return x"
   ]
  },
  {
   "cell_type": "code",
   "execution_count": 4,
   "id": "spiritual-leeds",
   "metadata": {},
   "outputs": [],
   "source": [
    "def get_interest(row):\n",
    "    inter = []\n",
    "    for c in interest.columns:\n",
    "        if row[c] != 0:\n",
    "            inter.append(c)\n",
    "    return inter"
   ]
  },
  {
   "cell_type": "code",
   "execution_count": 5,
   "id": "composite-cancer",
   "metadata": {},
   "outputs": [],
   "source": [
    "def get_feature(test_df):\n",
    "    feat = test_df.copy()\n",
    "    for j in range(len(feat)):\n",
    "        for i in feat.columns:\n",
    "            if feat.iloc[j][i] == 1:\n",
    "                feat.iloc[j, feat.columns.get_loc(i)] = i\n",
    "    return feat"
   ]
  },
  {
   "cell_type": "code",
   "execution_count": 6,
   "id": "brutal-accountability",
   "metadata": {},
   "outputs": [],
   "source": [
    "def preprocessing_test(data):\n",
    "    age_group = ['balita', 'kanak-kanak', 'remaja awal', 'remaja akhir', 'dewasa awal', 'dewasa akhir', 'lansia awal', 'lansia akhir', 'manula']\n",
    "    fixed_status = ['MARRIED', 'SINGLE']\n",
    "    fixed_gender = ['MALE', 'FEMALE']\n",
    "    fixed_inter = ['ART', 'AUTOMOTIVE', 'BOOKS', 'COOKING', 'CULINARY', 'FASHION', 'GADGET', 'GAMING', 'INTERIOR_DESIGN', 'MAKE_UP_AND_SKIN_CARE', 'MOVIES', 'MUSIC', 'PHOTOGRAPHY', 'SPORTS', 'TRAVELLING']\n",
    "    fixed_occ = ['ENTREPRENEUR', 'FULL_TIME_EMPLOYEE', 'OTHERS', 'PART_TIME_EMPLOYEE', 'RETIRED', 'STUDENT', 'UNEMPLOYED']\n",
    "    \n",
    "    data = age_bin(data)\n",
    "    x_test = encoding(data)\n",
    "    inter_encode = pd.get_dummies(x_test.interests.apply(pd.Series).stack()).sum(level=0)\n",
    "    x_test = x_test.drop(columns=['interests'])\n",
    "    x_test = pd.concat([x_test, inter_encode], axis=1)\n",
    "    \n",
    "    diff = list(set(fixed_status) - set(x_test.columns))\n",
    "    x_test[diff] = 0\n",
    "    diff = list(set(fixed_gender) - set(x_test.columns))\n",
    "    x_test[diff] = 0\n",
    "    diff = list(set(fixed_inter) - set(x_test.columns))\n",
    "    x_test[diff] = 0\n",
    "    diff = list(set(fixed_occ) - set(x_test.columns))\n",
    "    x_test[diff] = 0\n",
    "    \n",
    "    x_test = x_test.reindex(sorted(x_test.columns), axis=1)\n",
    "    return x_test"
   ]
  },
  {
   "cell_type": "code",
   "execution_count": 7,
   "id": "listed-shame",
   "metadata": {},
   "outputs": [],
   "source": [
    "def predict(x_test):\n",
    "    gift_model = pickle.load(open('gift_recommendation_model.sav', 'rb'))\n",
    "    pred_score = gift_model.predict_proba(x_test)\n",
    "    return pred_score"
   ]
  },
  {
   "cell_type": "code",
   "execution_count": 8,
   "id": "mexican-kansas",
   "metadata": {},
   "outputs": [],
   "source": [
    "def boost_cat(res, concat_res, feat):\n",
    "    add_value = pd.read_csv('category_c2.csv').drop('Unnamed: 0', axis=1)\n",
    "    add = add_value.set_index('cat_name').T\n",
    "    add = add.reindex(sorted(add.columns), axis=1).reset_index()\n",
    "    add_result = res.copy()\n",
    "    for i in range(len(concat_res)):\n",
    "        for j in feat.columns:\n",
    "            if concat_res.iloc[i:i+1][j].isin(add['index']).any():\n",
    "                a = add.loc[add['index']  == concat_res.iloc[i][j]]\n",
    "                for k in a.columns:\n",
    "                    if a[k].any() == 1:\n",
    "                        ad = float(a[k]) * 0.2\n",
    "                        temp = float(add_result.iloc[i:i+1][k]) * 0.8\n",
    "                        add_result.iloc[i:i+1][k] = temp + ad\n",
    "                        \n",
    "    return add_result"
   ]
  },
  {
   "cell_type": "code",
   "execution_count": 27,
   "id": "interracial-intelligence",
   "metadata": {},
   "outputs": [],
   "source": [
    "def gift_recommendation(gender, age, occupation, status, interest):\n",
    "    order = pd.read_csv('order.csv')\n",
    "    data = [gender, age, occupation, status, interest]\n",
    "    test_df = pd.DataFrame([data], columns = ['gender', 'age', 'occupation', 'status', 'interests'] )\n",
    "    x_test = preprocessing_test(test_df)\n",
    "    \n",
    "    pred_score = predict(x_test)\n",
    "    \n",
    "    res = pd.DataFrame(pred_score.toarray(), columns = order.cat_name.sort_values(ascending=True))\n",
    "    feature = get_feature(x_test)\n",
    "    concat_res = pd.concat([feature, res], axis=1)\n",
    "    add_res = boost_cat(res, concat_res, feature)\n",
    "\n",
    "    if test_df['age'].item() < 21:\n",
    "        add_res[['bliblimart - 21+', 'kesehatan & kecantikan - 21+ kesehatan seksual' ]] = 0\n",
    "   \n",
    "    add_res = add_res.rename(columns = {'home & living - hewan peliharaan/pet supplies':'home & living - hewan peliharaan pet supplies'})\n",
    "    add_res = add_res.rename(columns = {'mainan & video games - die-cast & r/c':'mainan & video games - die-cast & r c'})\n",
    "    \n",
    "    result = add_res.T\n",
    "    result = result.reset_index()\n",
    "    result.columns = ['category', 'probability']\n",
    "    return np.array(result.sort_values(by=['probability'], ascending=False)['category'])"
   ]
  },
  {
   "cell_type": "code",
   "execution_count": null,
   "id": "biological-nickname",
   "metadata": {},
   "outputs": [],
   "source": [
    "res = gift_recommendation('FEMALE', 32, 'FULL_TIME_EMPLOYEE', 'MARRIED', ['COOKING', 'TRAVELLING', 'FASHION'])\n",
    "res"
   ]
  },
  {
   "cell_type": "code",
   "execution_count": null,
   "id": "catholic-wayne",
   "metadata": {},
   "outputs": [],
   "source": []
  }
 ],
 "metadata": {
  "environment": {
   "name": "tf2-gpu.2-1.m65",
   "type": "gcloud",
   "uri": "gcr.io/deeplearning-platform-release/tf2-gpu.2-1:m65"
  },
  "kernelspec": {
   "display_name": "Python 3",
   "language": "python",
   "name": "python3"
  },
  "language_info": {
   "codemirror_mode": {
    "name": "ipython",
    "version": 3
   },
   "file_extension": ".py",
   "mimetype": "text/x-python",
   "name": "python",
   "nbconvert_exporter": "python",
   "pygments_lexer": "ipython3",
   "version": "3.7.10"
  }
 },
 "nbformat": 4,
 "nbformat_minor": 5
}
